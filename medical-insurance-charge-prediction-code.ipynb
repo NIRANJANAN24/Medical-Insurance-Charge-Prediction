{
 "cells": [
  {
   "cell_type": "markdown",
   "id": "1a8b81be",
   "metadata": {
    "id": "cqVybFq5exWx",
    "papermill": {
     "duration": 0.014279,
     "end_time": "2023-01-29T14:05:30.834823",
     "exception": false,
     "start_time": "2023-01-29T14:05:30.820544",
     "status": "completed"
    },
    "tags": []
   },
   "source": [
    "Importing required libraries"
   ]
  },
  {
   "cell_type": "code",
   "execution_count": 1,
   "id": "485903d1",
   "metadata": {
    "execution": {
     "iopub.execute_input": "2023-01-29T14:05:30.863787Z",
     "iopub.status.busy": "2023-01-29T14:05:30.863108Z",
     "iopub.status.idle": "2023-01-29T14:05:32.473170Z",
     "shell.execute_reply": "2023-01-29T14:05:32.471652Z"
    },
    "id": "o29hBDvCedYr",
    "papermill": {
     "duration": 1.62892,
     "end_time": "2023-01-29T14:05:32.476792",
     "exception": false,
     "start_time": "2023-01-29T14:05:30.847872",
     "status": "completed"
    },
    "tags": []
   },
   "outputs": [],
   "source": [
    "import numpy as np\n",
    "import pandas as pd\n",
    "import matplotlib.pyplot as plt\n",
    "import seaborn as sns\n",
    "from sklearn.model_selection import train_test_split\n",
    "from sklearn.linear_model import LinearRegression\n",
    "from sklearn import metrics\n",
    "from sklearn.linear_model import LogisticRegression\n"
   ]
  },
  {
   "cell_type": "code",
   "execution_count": 2,
   "id": "ddb3021e",
   "metadata": {
    "execution": {
     "iopub.execute_input": "2023-01-29T14:05:32.495997Z",
     "iopub.status.busy": "2023-01-29T14:05:32.495421Z",
     "iopub.status.idle": "2023-01-29T14:05:32.518319Z",
     "shell.execute_reply": "2023-01-29T14:05:32.517040Z"
    },
    "id": "dFJTAYmsenj6",
    "papermill": {
     "duration": 0.035894,
     "end_time": "2023-01-29T14:05:32.521271",
     "exception": false,
     "start_time": "2023-01-29T14:05:32.485377",
     "status": "completed"
    },
    "tags": []
   },
   "outputs": [],
   "source": [
    "\n",
    "df = pd.read_csv('/kaggle/input/medical-insurance-charge-prediction/insurance.csv')"
   ]
  },
  {
   "cell_type": "code",
   "execution_count": 3,
   "id": "93316eb9",
   "metadata": {
    "execution": {
     "iopub.execute_input": "2023-01-29T14:05:32.541823Z",
     "iopub.status.busy": "2023-01-29T14:05:32.540688Z",
     "iopub.status.idle": "2023-01-29T14:05:32.568130Z",
     "shell.execute_reply": "2023-01-29T14:05:32.566876Z"
    },
    "id": "YHtPp39jfC6H",
    "outputId": "f82d52aa-a200-4156-f1a1-96ff56ccae01",
    "papermill": {
     "duration": 0.041124,
     "end_time": "2023-01-29T14:05:32.571180",
     "exception": false,
     "start_time": "2023-01-29T14:05:32.530056",
     "status": "completed"
    },
    "tags": []
   },
   "outputs": [
    {
     "data": {
      "text/html": [
       "<div>\n",
       "<style scoped>\n",
       "    .dataframe tbody tr th:only-of-type {\n",
       "        vertical-align: middle;\n",
       "    }\n",
       "\n",
       "    .dataframe tbody tr th {\n",
       "        vertical-align: top;\n",
       "    }\n",
       "\n",
       "    .dataframe thead th {\n",
       "        text-align: right;\n",
       "    }\n",
       "</style>\n",
       "<table border=\"1\" class=\"dataframe\">\n",
       "  <thead>\n",
       "    <tr style=\"text-align: right;\">\n",
       "      <th></th>\n",
       "      <th>age</th>\n",
       "      <th>sex</th>\n",
       "      <th>bmi</th>\n",
       "      <th>children</th>\n",
       "      <th>smoker</th>\n",
       "      <th>region</th>\n",
       "      <th>charges</th>\n",
       "    </tr>\n",
       "  </thead>\n",
       "  <tbody>\n",
       "    <tr>\n",
       "      <th>0</th>\n",
       "      <td>19</td>\n",
       "      <td>female</td>\n",
       "      <td>27.900</td>\n",
       "      <td>0</td>\n",
       "      <td>yes</td>\n",
       "      <td>southwest</td>\n",
       "      <td>16884.92400</td>\n",
       "    </tr>\n",
       "    <tr>\n",
       "      <th>1</th>\n",
       "      <td>18</td>\n",
       "      <td>male</td>\n",
       "      <td>33.770</td>\n",
       "      <td>1</td>\n",
       "      <td>no</td>\n",
       "      <td>southeast</td>\n",
       "      <td>1725.55230</td>\n",
       "    </tr>\n",
       "    <tr>\n",
       "      <th>2</th>\n",
       "      <td>28</td>\n",
       "      <td>male</td>\n",
       "      <td>33.000</td>\n",
       "      <td>3</td>\n",
       "      <td>no</td>\n",
       "      <td>southeast</td>\n",
       "      <td>4449.46200</td>\n",
       "    </tr>\n",
       "    <tr>\n",
       "      <th>3</th>\n",
       "      <td>33</td>\n",
       "      <td>male</td>\n",
       "      <td>22.705</td>\n",
       "      <td>0</td>\n",
       "      <td>no</td>\n",
       "      <td>northwest</td>\n",
       "      <td>21984.47061</td>\n",
       "    </tr>\n",
       "    <tr>\n",
       "      <th>4</th>\n",
       "      <td>32</td>\n",
       "      <td>male</td>\n",
       "      <td>28.880</td>\n",
       "      <td>0</td>\n",
       "      <td>no</td>\n",
       "      <td>northwest</td>\n",
       "      <td>3866.85520</td>\n",
       "    </tr>\n",
       "  </tbody>\n",
       "</table>\n",
       "</div>"
      ],
      "text/plain": [
       "   age     sex     bmi  children smoker     region      charges\n",
       "0   19  female  27.900         0    yes  southwest  16884.92400\n",
       "1   18    male  33.770         1     no  southeast   1725.55230\n",
       "2   28    male  33.000         3     no  southeast   4449.46200\n",
       "3   33    male  22.705         0     no  northwest  21984.47061\n",
       "4   32    male  28.880         0     no  northwest   3866.85520"
      ]
     },
     "execution_count": 3,
     "metadata": {},
     "output_type": "execute_result"
    }
   ],
   "source": [
    "df.head()"
   ]
  },
  {
   "cell_type": "code",
   "execution_count": 4,
   "id": "175ae9fc",
   "metadata": {
    "execution": {
     "iopub.execute_input": "2023-01-29T14:05:32.590667Z",
     "iopub.status.busy": "2023-01-29T14:05:32.590128Z",
     "iopub.status.idle": "2023-01-29T14:05:32.598777Z",
     "shell.execute_reply": "2023-01-29T14:05:32.597565Z"
    },
    "id": "P5tMLbalfDqr",
    "outputId": "9d6a94a4-f1e5-48f1-e0fd-ac208f888ce2",
    "papermill": {
     "duration": 0.021242,
     "end_time": "2023-01-29T14:05:32.601305",
     "exception": false,
     "start_time": "2023-01-29T14:05:32.580063",
     "status": "completed"
    },
    "tags": []
   },
   "outputs": [
    {
     "data": {
      "text/plain": [
       "(1338, 7)"
      ]
     },
     "execution_count": 4,
     "metadata": {},
     "output_type": "execute_result"
    }
   ],
   "source": [
    "df.shape"
   ]
  },
  {
   "cell_type": "code",
   "execution_count": 5,
   "id": "da5802f5",
   "metadata": {
    "execution": {
     "iopub.execute_input": "2023-01-29T14:05:32.621116Z",
     "iopub.status.busy": "2023-01-29T14:05:32.620509Z",
     "iopub.status.idle": "2023-01-29T14:05:32.633574Z",
     "shell.execute_reply": "2023-01-29T14:05:32.632320Z"
    },
    "id": "TO8F4u7mfGaX",
    "outputId": "8c251890-bc50-449d-881f-48d7a6f4afbc",
    "papermill": {
     "duration": 0.026038,
     "end_time": "2023-01-29T14:05:32.636137",
     "exception": false,
     "start_time": "2023-01-29T14:05:32.610099",
     "status": "completed"
    },
    "tags": []
   },
   "outputs": [
    {
     "data": {
      "text/plain": [
       "age         0\n",
       "sex         0\n",
       "bmi         0\n",
       "children    0\n",
       "smoker      0\n",
       "region      0\n",
       "charges     0\n",
       "dtype: int64"
      ]
     },
     "execution_count": 5,
     "metadata": {},
     "output_type": "execute_result"
    }
   ],
   "source": [
    "df.isnull().sum()"
   ]
  },
  {
   "cell_type": "code",
   "execution_count": 6,
   "id": "43fc8b87",
   "metadata": {
    "execution": {
     "iopub.execute_input": "2023-01-29T14:05:32.656221Z",
     "iopub.status.busy": "2023-01-29T14:05:32.655655Z",
     "iopub.status.idle": "2023-01-29T14:05:32.694576Z",
     "shell.execute_reply": "2023-01-29T14:05:32.693488Z"
    },
    "id": "Vu8147XkfJV5",
    "outputId": "3e86bac5-0d76-4451-eab4-820e4b6d884b",
    "papermill": {
     "duration": 0.051985,
     "end_time": "2023-01-29T14:05:32.697000",
     "exception": false,
     "start_time": "2023-01-29T14:05:32.645015",
     "status": "completed"
    },
    "tags": []
   },
   "outputs": [
    {
     "data": {
      "text/html": [
       "<div>\n",
       "<style scoped>\n",
       "    .dataframe tbody tr th:only-of-type {\n",
       "        vertical-align: middle;\n",
       "    }\n",
       "\n",
       "    .dataframe tbody tr th {\n",
       "        vertical-align: top;\n",
       "    }\n",
       "\n",
       "    .dataframe thead th {\n",
       "        text-align: right;\n",
       "    }\n",
       "</style>\n",
       "<table border=\"1\" class=\"dataframe\">\n",
       "  <thead>\n",
       "    <tr style=\"text-align: right;\">\n",
       "      <th></th>\n",
       "      <th>age</th>\n",
       "      <th>bmi</th>\n",
       "      <th>children</th>\n",
       "      <th>charges</th>\n",
       "    </tr>\n",
       "  </thead>\n",
       "  <tbody>\n",
       "    <tr>\n",
       "      <th>count</th>\n",
       "      <td>1338.000000</td>\n",
       "      <td>1338.000000</td>\n",
       "      <td>1338.000000</td>\n",
       "      <td>1338.000000</td>\n",
       "    </tr>\n",
       "    <tr>\n",
       "      <th>mean</th>\n",
       "      <td>39.207025</td>\n",
       "      <td>30.663397</td>\n",
       "      <td>1.094918</td>\n",
       "      <td>13270.422265</td>\n",
       "    </tr>\n",
       "    <tr>\n",
       "      <th>std</th>\n",
       "      <td>14.049960</td>\n",
       "      <td>6.098187</td>\n",
       "      <td>1.205493</td>\n",
       "      <td>12110.011237</td>\n",
       "    </tr>\n",
       "    <tr>\n",
       "      <th>min</th>\n",
       "      <td>18.000000</td>\n",
       "      <td>15.960000</td>\n",
       "      <td>0.000000</td>\n",
       "      <td>1121.873900</td>\n",
       "    </tr>\n",
       "    <tr>\n",
       "      <th>25%</th>\n",
       "      <td>27.000000</td>\n",
       "      <td>26.296250</td>\n",
       "      <td>0.000000</td>\n",
       "      <td>4740.287150</td>\n",
       "    </tr>\n",
       "    <tr>\n",
       "      <th>50%</th>\n",
       "      <td>39.000000</td>\n",
       "      <td>30.400000</td>\n",
       "      <td>1.000000</td>\n",
       "      <td>9382.033000</td>\n",
       "    </tr>\n",
       "    <tr>\n",
       "      <th>75%</th>\n",
       "      <td>51.000000</td>\n",
       "      <td>34.693750</td>\n",
       "      <td>2.000000</td>\n",
       "      <td>16639.912515</td>\n",
       "    </tr>\n",
       "    <tr>\n",
       "      <th>max</th>\n",
       "      <td>64.000000</td>\n",
       "      <td>53.130000</td>\n",
       "      <td>5.000000</td>\n",
       "      <td>63770.428010</td>\n",
       "    </tr>\n",
       "  </tbody>\n",
       "</table>\n",
       "</div>"
      ],
      "text/plain": [
       "               age          bmi     children       charges\n",
       "count  1338.000000  1338.000000  1338.000000   1338.000000\n",
       "mean     39.207025    30.663397     1.094918  13270.422265\n",
       "std      14.049960     6.098187     1.205493  12110.011237\n",
       "min      18.000000    15.960000     0.000000   1121.873900\n",
       "25%      27.000000    26.296250     0.000000   4740.287150\n",
       "50%      39.000000    30.400000     1.000000   9382.033000\n",
       "75%      51.000000    34.693750     2.000000  16639.912515\n",
       "max      64.000000    53.130000     5.000000  63770.428010"
      ]
     },
     "execution_count": 6,
     "metadata": {},
     "output_type": "execute_result"
    }
   ],
   "source": [
    "df.describe()"
   ]
  },
  {
   "cell_type": "code",
   "execution_count": 7,
   "id": "76273932",
   "metadata": {
    "execution": {
     "iopub.execute_input": "2023-01-29T14:05:32.718882Z",
     "iopub.status.busy": "2023-01-29T14:05:32.718322Z",
     "iopub.status.idle": "2023-01-29T14:05:32.960741Z",
     "shell.execute_reply": "2023-01-29T14:05:32.959047Z"
    },
    "id": "LXrZcmHWfMw3",
    "outputId": "8b48a974-5ed4-463e-dc4d-0da56b3de082",
    "papermill": {
     "duration": 0.256241,
     "end_time": "2023-01-29T14:05:32.963792",
     "exception": false,
     "start_time": "2023-01-29T14:05:32.707551",
     "status": "completed"
    },
    "tags": []
   },
   "outputs": [
    {
     "data": {
      "image/png": "[encoded data removed]",
      "text/plain": [
       "<Figure size 432x432 with 1 Axes>"
      ]
     },
     "metadata": {
      "needs_background": "light"
     },
     "output_type": "display_data"
    }
   ],
   "source": [
    "plt.figure(figsize=(6,6))\n",
    "sns.countplot(x='sex', data=df)\n",
    "plt.title('Gender Distribution')\n",
    "plt.show()"
   ]
  },
  {
   "cell_type": "code",
   "execution_count": 8,
   "id": "ad193d82",
   "metadata": {
    "execution": {
     "iopub.execute_input": "2023-01-29T14:05:32.986694Z",
     "iopub.status.busy": "2023-01-29T14:05:32.985470Z",
     "iopub.status.idle": "2023-01-29T14:05:33.122242Z",
     "shell.execute_reply": "2023-01-29T14:05:33.121018Z"
    },
    "id": "DyuYX6NlfeUA",
    "outputId": "7f09390c-38ff-4ac5-ba49-bd68a248bb27",
    "papermill": {
     "duration": 0.152036,
     "end_time": "2023-01-29T14:05:33.125519",
     "exception": false,
     "start_time": "2023-01-29T14:05:32.973483",
     "status": "completed"
    },
    "tags": []
   },
   "outputs": [
    {
     "data": {
      "image/png": "[encoded data removed]",
      "text/plain": [
       "<Figure size 432x432 with 1 Axes>"
      ]
     },
     "metadata": {
      "needs_background": "light"
     },
     "output_type": "display_data"
    }
   ],
   "source": [
    "plt.figure(figsize=(6,6))\n",
    "sns.countplot(x='smoker', data=df)\n",
    "plt.title('smoker Distribution')\n",
    "plt.show()"
   ]
  },
  {
   "cell_type": "code",
   "execution_count": 9,
   "id": "69133720",
   "metadata": {
    "execution": {
     "iopub.execute_input": "2023-01-29T14:05:33.147048Z",
     "iopub.status.busy": "2023-01-29T14:05:33.146495Z",
     "iopub.status.idle": "2023-01-29T14:05:33.295137Z",
     "shell.execute_reply": "2023-01-29T14:05:33.293591Z"
    },
    "id": "Jundrmkrfezg",
    "outputId": "d1f09c45-40ed-4d13-fec7-2e527f363aee",
    "papermill": {
     "duration": 0.164195,
     "end_time": "2023-01-29T14:05:33.299292",
     "exception": false,
     "start_time": "2023-01-29T14:05:33.135097",
     "status": "completed"
    },
    "tags": []
   },
   "outputs": [
    {
     "data": {
      "image/png": "[encoded data removed]",
      "text/plain": [
       "<Figure size 432x432 with 1 Axes>"
      ]
     },
     "metadata": {
      "needs_background": "light"
     },
     "output_type": "display_data"
    }
   ],
   "source": [
    "plt.figure(figsize=(6,6))\n",
    "sns.countplot(x='region', data=df)\n",
    "plt.title('Distribution of various region')\n",
    "plt.show()"
   ]
  },
  {
   "cell_type": "code",
   "execution_count": 10,
   "id": "3dcbc6b0",
   "metadata": {
    "execution": {
     "iopub.execute_input": "2023-01-29T14:05:33.321648Z",
     "iopub.status.busy": "2023-01-29T14:05:33.320869Z",
     "iopub.status.idle": "2023-01-29T14:05:33.608710Z",
     "shell.execute_reply": "2023-01-29T14:05:33.607339Z"
    },
    "id": "3CNRex1bgB9l",
    "outputId": "2c89a5b6-46ed-408c-8303-9d2d0cc3843d",
    "papermill": {
     "duration": 0.302557,
     "end_time": "2023-01-29T14:05:33.611732",
     "exception": false,
     "start_time": "2023-01-29T14:05:33.309175",
     "status": "completed"
    },
    "tags": []
   },
   "outputs": [
    {
     "name": "stderr",
     "output_type": "stream",
     "text": [
      "/opt/conda/lib/python3.7/site-packages/seaborn/distributions.py:2619: FutureWarning: `distplot` is a deprecated function and will be removed in a future version. Please adapt your code to use either `displot` (a figure-level function with similar flexibility) or `histplot` (an axes-level function for histograms).\n",
      "  warnings.warn(msg, FutureWarning)\n"
     ]
    },
    {
     "data": {
      "image/png": "[encoded data removed]",
      "text/plain": [
       "<Figure size 432x432 with 1 Axes>"
      ]
     },
     "metadata": {},
     "output_type": "display_data"
    }
   ],
   "source": [
    "sns.set()\n",
    "plt.figure(figsize=(6,6))\n",
    "sns.distplot(df['age'])\n",
    "plt.title('Age Distribution')\n",
    "plt.show()"
   ]
  },
  {
   "cell_type": "code",
   "execution_count": 11,
   "id": "22e10513",
   "metadata": {
    "execution": {
     "iopub.execute_input": "2023-01-29T14:05:33.635458Z",
     "iopub.status.busy": "2023-01-29T14:05:33.634912Z",
     "iopub.status.idle": "2023-01-29T14:05:33.906486Z",
     "shell.execute_reply": "2023-01-29T14:05:33.905090Z"
    },
    "id": "cgbyZijmgGiP",
    "outputId": "68c09b6d-0471-4763-883f-a5c8c06c1faf",
    "papermill": {
     "duration": 0.287368,
     "end_time": "2023-01-29T14:05:33.909769",
     "exception": false,
     "start_time": "2023-01-29T14:05:33.622401",
     "status": "completed"
    },
    "tags": []
   },
   "outputs": [
    {
     "name": "stderr",
     "output_type": "stream",
     "text": [
      "/opt/conda/lib/python3.7/site-packages/seaborn/distributions.py:2619: FutureWarning: `distplot` is a deprecated function and will be removed in a future version. Please adapt your code to use either `displot` (a figure-level function with similar flexibility) or `histplot` (an axes-level function for histograms).\n",
      "  warnings.warn(msg, FutureWarning)\n"
     ]
    },
    {
     "data": {
      "image/png": "[encoded data removed]",
      "text/plain": [
       "<Figure size 432x432 with 1 Axes>"
      ]
     },
     "metadata": {},
     "output_type": "display_data"
    }
   ],
   "source": [
    "plt.figure(figsize=(6,6))\n",
    "sns.distplot(df['bmi'])\n",
    "plt.title('BMI Distribution')\n",
    "plt.show()"
   ]
  },
  {
   "cell_type": "code",
   "execution_count": 12,
   "id": "c368794c",
   "metadata": {
    "execution": {
     "iopub.execute_input": "2023-01-29T14:05:33.934047Z",
     "iopub.status.busy": "2023-01-29T14:05:33.933543Z",
     "iopub.status.idle": "2023-01-29T14:05:34.195992Z",
     "shell.execute_reply": "2023-01-29T14:05:34.194684Z"
    },
    "id": "t4hrVjsLgLaF",
    "outputId": "4feb11e6-7e74-4d9f-8da2-1b2063423d11",
    "papermill": {
     "duration": 0.278053,
     "end_time": "2023-01-29T14:05:34.198793",
     "exception": false,
     "start_time": "2023-01-29T14:05:33.920740",
     "status": "completed"
    },
    "tags": []
   },
   "outputs": [
    {
     "name": "stderr",
     "output_type": "stream",
     "text": [
      "/opt/conda/lib/python3.7/site-packages/seaborn/distributions.py:2619: FutureWarning: `distplot` is a deprecated function and will be removed in a future version. Please adapt your code to use either `displot` (a figure-level function with similar flexibility) or `histplot` (an axes-level function for histograms).\n",
      "  warnings.warn(msg, FutureWarning)\n"
     ]
    },
    {
     "data": {
      "image/png": "[encoded data removed]",
      "text/plain": [
       "<Figure size 432x432 with 1 Axes>"
      ]
     },
     "metadata": {},
     "output_type": "display_data"
    }
   ],
   "source": [
    "plt.figure(figsize=(6,6))\n",
    "sns.distplot(df['children'])\n",
    "plt.title('Number of Children')\n",
    "plt.show()"
   ]
  },
  {
   "cell_type": "code",
   "execution_count": 13,
   "id": "2356047e",
   "metadata": {
    "execution": {
     "iopub.execute_input": "2023-01-29T14:05:34.224286Z",
     "iopub.status.busy": "2023-01-29T14:05:34.223644Z",
     "iopub.status.idle": "2023-01-29T14:05:34.555489Z",
     "shell.execute_reply": "2023-01-29T14:05:34.554067Z"
    },
    "id": "JKpZT5AXgbCZ",
    "outputId": "2b57a10b-51c8-4c22-d295-ac60f9332cef",
    "papermill": {
     "duration": 0.347973,
     "end_time": "2023-01-29T14:05:34.558377",
     "exception": false,
     "start_time": "2023-01-29T14:05:34.210404",
     "status": "completed"
    },
    "tags": []
   },
   "outputs": [
    {
     "name": "stderr",
     "output_type": "stream",
     "text": [
      "/opt/conda/lib/python3.7/site-packages/seaborn/distributions.py:2619: FutureWarning: `distplot` is a deprecated function and will be removed in a future version. Please adapt your code to use either `displot` (a figure-level function with similar flexibility) or `histplot` (an axes-level function for histograms).\n",
      "  warnings.warn(msg, FutureWarning)\n"
     ]
    },
    {
     "data": {
      "image/png": "[encoded data removed]",
      "text/plain": [
       "<Figure size 360x360 with 1 Axes>"
      ]
     },
     "metadata": {},
     "output_type": "display_data"
    }
   ],
   "source": [
    "plt.figure(figsize=(5,5))\n",
    "sns.distplot(df['charges'])\n",
    "plt.title('Charges Distribution')\n",
    "plt.show()"
   ]
  },
  {
   "cell_type": "code",
   "execution_count": 14,
   "id": "fba4ea5c",
   "metadata": {
    "execution": {
     "iopub.execute_input": "2023-01-29T14:05:34.585007Z",
     "iopub.status.busy": "2023-01-29T14:05:34.584445Z",
     "iopub.status.idle": "2023-01-29T14:05:34.600032Z",
     "shell.execute_reply": "2023-01-29T14:05:34.598583Z"
    },
    "id": "0LudVWwVghAp",
    "outputId": "26081423-ac05-427a-b9bc-f71c9ba3f31c",
    "papermill": {
     "duration": 0.033225,
     "end_time": "2023-01-29T14:05:34.603615",
     "exception": false,
     "start_time": "2023-01-29T14:05:34.570390",
     "status": "completed"
    },
    "tags": []
   },
   "outputs": [
    {
     "name": "stderr",
     "output_type": "stream",
     "text": [
      "/opt/conda/lib/python3.7/site-packages/ipykernel_launcher.py:1: FutureWarning: Dropping of nuisance columns in DataFrame reductions (with 'numeric_only=None') is deprecated; in a future version this will raise TypeError.  Select only valid columns before calling the reduction.\n",
      "  \"\"\"Entry point for launching an IPython kernel.\n"
     ]
    },
    {
     "data": {
      "text/plain": [
       "age         0.055673\n",
       "bmi         0.284047\n",
       "children    0.938380\n",
       "charges     1.515880\n",
       "dtype: float64"
      ]
     },
     "execution_count": 14,
     "metadata": {},
     "output_type": "execute_result"
    }
   ],
   "source": [
    "df.skew()"
   ]
  },
  {
   "cell_type": "code",
   "execution_count": 15,
   "id": "a65bc86e",
   "metadata": {
    "execution": {
     "iopub.execute_input": "2023-01-29T14:05:34.629828Z",
     "iopub.status.busy": "2023-01-29T14:05:34.629332Z",
     "iopub.status.idle": "2023-01-29T14:05:34.639110Z",
     "shell.execute_reply": "2023-01-29T14:05:34.637858Z"
    },
    "id": "Yl-ubLOsg3X6",
    "papermill": {
     "duration": 0.025802,
     "end_time": "2023-01-29T14:05:34.641652",
     "exception": false,
     "start_time": "2023-01-29T14:05:34.615850",
     "status": "completed"
    },
    "tags": []
   },
   "outputs": [],
   "source": [
    "df.replace({'sex':{'male':0,'female':1}}, inplace=True)"
   ]
  },
  {
   "cell_type": "code",
   "execution_count": 16,
   "id": "1077261f",
   "metadata": {
    "execution": {
     "iopub.execute_input": "2023-01-29T14:05:34.668000Z",
     "iopub.status.busy": "2023-01-29T14:05:34.667099Z",
     "iopub.status.idle": "2023-01-29T14:05:34.676554Z",
     "shell.execute_reply": "2023-01-29T14:05:34.675443Z"
    },
    "id": "IILwn5NGiYXJ",
    "papermill": {
     "duration": 0.025678,
     "end_time": "2023-01-29T14:05:34.679314",
     "exception": false,
     "start_time": "2023-01-29T14:05:34.653636",
     "status": "completed"
    },
    "tags": []
   },
   "outputs": [],
   "source": [
    "df.replace({'smoker':{'yes':0,'no':1}}, inplace=True)"
   ]
  },
  {
   "cell_type": "code",
   "execution_count": 17,
   "id": "84abcdd8",
   "metadata": {
    "execution": {
     "iopub.execute_input": "2023-01-29T14:05:34.705623Z",
     "iopub.status.busy": "2023-01-29T14:05:34.705120Z",
     "iopub.status.idle": "2023-01-29T14:05:34.715514Z",
     "shell.execute_reply": "2023-01-29T14:05:34.714078Z"
    },
    "id": "LTI2QzW9iZz6",
    "papermill": {
     "duration": 0.027013,
     "end_time": "2023-01-29T14:05:34.718370",
     "exception": false,
     "start_time": "2023-01-29T14:05:34.691357",
     "status": "completed"
    },
    "tags": []
   },
   "outputs": [],
   "source": [
    "df.replace({'region':{'southeast':0,'southwest':1,'northeast':2,'northwest':3}}, inplace=True)"
   ]
  },
  {
   "cell_type": "code",
   "execution_count": 18,
   "id": "113c1119",
   "metadata": {
    "execution": {
     "iopub.execute_input": "2023-01-29T14:05:34.744591Z",
     "iopub.status.busy": "2023-01-29T14:05:34.744027Z",
     "iopub.status.idle": "2023-01-29T14:05:34.753181Z",
     "shell.execute_reply": "2023-01-29T14:05:34.751537Z"
    },
    "id": "BhYXbJGAiOnp",
    "papermill": {
     "duration": 0.025422,
     "end_time": "2023-01-29T14:05:34.755732",
     "exception": false,
     "start_time": "2023-01-29T14:05:34.730310",
     "status": "completed"
    },
    "tags": []
   },
   "outputs": [],
   "source": [
    "X = df.drop(columns='charges', axis=1)\n",
    "Y = df['charges']"
   ]
  },
  {
   "cell_type": "code",
   "execution_count": 19,
   "id": "f6d23fb3",
   "metadata": {
    "execution": {
     "iopub.execute_input": "2023-01-29T14:05:34.782041Z",
     "iopub.status.busy": "2023-01-29T14:05:34.781475Z",
     "iopub.status.idle": "2023-01-29T14:05:34.795282Z",
     "shell.execute_reply": "2023-01-29T14:05:34.793732Z"
    },
    "id": "9vdnaDexiUZB",
    "outputId": "03f67dcb-c659-48bb-910c-dc5a2e94a29e",
    "papermill": {
     "duration": 0.030519,
     "end_time": "2023-01-29T14:05:34.798259",
     "exception": false,
     "start_time": "2023-01-29T14:05:34.767740",
     "status": "completed"
    },
    "tags": []
   },
   "outputs": [
    {
     "name": "stdout",
     "output_type": "stream",
     "text": [
      "      age  sex     bmi  children  smoker  region\n",
      "0      19    1  27.900         0       0       1\n",
      "1      18    0  33.770         1       1       0\n",
      "2      28    0  33.000         3       1       0\n",
      "3      33    0  22.705         0       1       3\n",
      "4      32    0  28.880         0       1       3\n",
      "...   ...  ...     ...       ...     ...     ...\n",
      "1333   50    0  30.970         3       1       3\n",
      "1334   18    1  31.920         0       1       2\n",
      "1335   18    1  36.850         0       1       0\n",
      "1336   21    1  25.800         0       1       1\n",
      "1337   61    1  29.070         0       0       3\n",
      "\n",
      "[1338 rows x 6 columns]\n"
     ]
    }
   ],
   "source": [
    "print(X)"
   ]
  },
  {
   "cell_type": "code",
   "execution_count": 20,
   "id": "b13e1a27",
   "metadata": {
    "execution": {
     "iopub.execute_input": "2023-01-29T14:05:34.825096Z",
     "iopub.status.busy": "2023-01-29T14:05:34.824559Z",
     "iopub.status.idle": "2023-01-29T14:05:34.832514Z",
     "shell.execute_reply": "2023-01-29T14:05:34.831256Z"
    },
    "id": "iFKj4EA1igVY",
    "outputId": "ba593655-ed38-468b-cfca-20420cd32012",
    "papermill": {
     "duration": 0.025238,
     "end_time": "2023-01-29T14:05:34.835704",
     "exception": false,
     "start_time": "2023-01-29T14:05:34.810466",
     "status": "completed"
    },
    "tags": []
   },
   "outputs": [
    {
     "name": "stdout",
     "output_type": "stream",
     "text": [
      "0       16884.92400\n",
      "1        1725.55230\n",
      "2        4449.46200\n",
      "3       21984.47061\n",
      "4        3866.85520\n",
      "           ...     \n",
      "1333    10600.54830\n",
      "1334     2205.98080\n",
      "1335     1629.83350\n",
      "1336     2007.94500\n",
      "1337    29141.36030\n",
      "Name: charges, Length: 1338, dtype: float64\n"
     ]
    }
   ],
   "source": [
    "print(Y)"
   ]
  },
  {
   "cell_type": "code",
   "execution_count": 21,
   "id": "933c0782",
   "metadata": {
    "execution": {
     "iopub.execute_input": "2023-01-29T14:05:34.862644Z",
     "iopub.status.busy": "2023-01-29T14:05:34.862161Z",
     "iopub.status.idle": "2023-01-29T14:05:34.871232Z",
     "shell.execute_reply": "2023-01-29T14:05:34.869868Z"
    },
    "id": "V93n-Iz2igxE",
    "papermill": {
     "duration": 0.026449,
     "end_time": "2023-01-29T14:05:34.874221",
     "exception": false,
     "start_time": "2023-01-29T14:05:34.847772",
     "status": "completed"
    },
    "tags": []
   },
   "outputs": [],
   "source": [
    "X_train, X_test, Y_train, Y_test = train_test_split(X, Y, test_size=0.2, random_state=0)"
   ]
  },
  {
   "cell_type": "code",
   "execution_count": 22,
   "id": "22167965",
   "metadata": {
    "execution": {
     "iopub.execute_input": "2023-01-29T14:05:34.901554Z",
     "iopub.status.busy": "2023-01-29T14:05:34.901049Z",
     "iopub.status.idle": "2023-01-29T14:05:34.907149Z",
     "shell.execute_reply": "2023-01-29T14:05:34.905779Z"
    },
    "id": "IQOwfZoBijzF",
    "papermill": {
     "duration": 0.02317,
     "end_time": "2023-01-29T14:05:34.909752",
     "exception": false,
     "start_time": "2023-01-29T14:05:34.886582",
     "status": "completed"
    },
    "tags": []
   },
   "outputs": [],
   "source": [
    "regressor = LinearRegression()"
   ]
  },
  {
   "cell_type": "code",
   "execution_count": 23,
   "id": "1a9d5f7b",
   "metadata": {
    "execution": {
     "iopub.execute_input": "2023-01-29T14:05:34.936754Z",
     "iopub.status.busy": "2023-01-29T14:05:34.935674Z",
     "iopub.status.idle": "2023-01-29T14:05:34.961438Z",
     "shell.execute_reply": "2023-01-29T14:05:34.960058Z"
    },
    "id": "SbQrBNKji4wx",
    "outputId": "3ea7d239-d7c7-4485-e147-32ccd5faa830",
    "papermill": {
     "duration": 0.042357,
     "end_time": "2023-01-29T14:05:34.964367",
     "exception": false,
     "start_time": "2023-01-29T14:05:34.922010",
     "status": "completed"
    },
    "tags": []
   },
   "outputs": [
    {
     "data": {
      "text/plain": [
       "LinearRegression()"
      ]
     },
     "execution_count": 23,
     "metadata": {},
     "output_type": "execute_result"
    }
   ],
   "source": [
    "regressor.fit(X_train, Y_train)"
   ]
  },
  {
   "cell_type": "code",
   "execution_count": 24,
   "id": "277632ea",
   "metadata": {
    "execution": {
     "iopub.execute_input": "2023-01-29T14:05:34.991364Z",
     "iopub.status.busy": "2023-01-29T14:05:34.990809Z",
     "iopub.status.idle": "2023-01-29T14:05:35.001033Z",
     "shell.execute_reply": "2023-01-29T14:05:34.999892Z"
    },
    "id": "pHQSjvekdsgO",
    "papermill": {
     "duration": 0.027144,
     "end_time": "2023-01-29T14:05:35.003766",
     "exception": false,
     "start_time": "2023-01-29T14:05:34.976622",
     "status": "completed"
    },
    "tags": []
   },
   "outputs": [],
   "source": [
    "test_data_prediction =regressor.predict(X_test)"
   ]
  },
  {
   "cell_type": "code",
   "execution_count": 25,
   "id": "d9932827",
   "metadata": {
    "execution": {
     "iopub.execute_input": "2023-01-29T14:05:35.031121Z",
     "iopub.status.busy": "2023-01-29T14:05:35.030614Z",
     "iopub.status.idle": "2023-01-29T14:05:35.037291Z",
     "shell.execute_reply": "2023-01-29T14:05:35.036387Z"
    },
    "id": "xVt5-JWCqIJA",
    "outputId": "2e806c72-7e36-4f28-c014-bb4abffeeb64",
    "papermill": {
     "duration": 0.02396,
     "end_time": "2023-01-29T14:05:35.040004",
     "exception": false,
     "start_time": "2023-01-29T14:05:35.016044",
     "status": "completed"
    },
    "tags": []
   },
   "outputs": [
    {
     "name": "stdout",
     "output_type": "stream",
     "text": [
      "R squared vale :  0.7989875396812892\n"
     ]
    }
   ],
   "source": [
    "r2_test = metrics.r2_score(Y_test, test_data_prediction)\n",
    "print('R squared vale : ', r2_test)"
   ]
  },
  {
   "cell_type": "code",
   "execution_count": 26,
   "id": "ead14188",
   "metadata": {
    "execution": {
     "iopub.execute_input": "2023-01-29T14:05:35.068090Z",
     "iopub.status.busy": "2023-01-29T14:05:35.066924Z",
     "iopub.status.idle": "2023-01-29T14:05:35.073449Z",
     "shell.execute_reply": "2023-01-29T14:05:35.072069Z"
    },
    "id": "a2-71BOmrMqW",
    "papermill": {
     "duration": 0.023578,
     "end_time": "2023-01-29T14:05:35.075957",
     "exception": false,
     "start_time": "2023-01-29T14:05:35.052379",
     "status": "completed"
    },
    "tags": []
   },
   "outputs": [],
   "source": [
    "from sklearn.metrics import confusion_matrix"
   ]
  },
  {
   "cell_type": "code",
   "execution_count": 27,
   "id": "ebdf9ec3",
   "metadata": {
    "execution": {
     "iopub.execute_input": "2023-01-29T14:05:35.103334Z",
     "iopub.status.busy": "2023-01-29T14:05:35.102779Z",
     "iopub.status.idle": "2023-01-29T14:05:35.108028Z",
     "shell.execute_reply": "2023-01-29T14:05:35.106644Z"
    },
    "id": "t0LaGUcGrPGe",
    "papermill": {
     "duration": 0.022179,
     "end_time": "2023-01-29T14:05:35.110617",
     "exception": false,
     "start_time": "2023-01-29T14:05:35.088438",
     "status": "completed"
    },
    "tags": []
   },
   "outputs": [],
   "source": [
    "#print(confusion_matrix(Y_test,test_data_prediction))"
   ]
  },
  {
   "cell_type": "code",
   "execution_count": 28,
   "id": "b783809f",
   "metadata": {
    "execution": {
     "iopub.execute_input": "2023-01-29T14:05:35.138140Z",
     "iopub.status.busy": "2023-01-29T14:05:35.137031Z",
     "iopub.status.idle": "2023-01-29T14:05:35.143691Z",
     "shell.execute_reply": "2023-01-29T14:05:35.142658Z"
    },
    "id": "5X3kMA2Zqy2v",
    "papermill": {
     "duration": 0.023217,
     "end_time": "2023-01-29T14:05:35.146273",
     "exception": false,
     "start_time": "2023-01-29T14:05:35.123056",
     "status": "completed"
    },
    "tags": []
   },
   "outputs": [],
   "source": [
    "import pickle\n",
    "filename='insurance_model.sav'\n",
    "pickle.dump(regressor,open(filename,'wb'))"
   ]
  },
  {
   "cell_type": "code",
   "execution_count": 29,
   "id": "4fbfba81",
   "metadata": {
    "execution": {
     "iopub.execute_input": "2023-01-29T14:05:35.174213Z",
     "iopub.status.busy": "2023-01-29T14:05:35.173041Z",
     "iopub.status.idle": "2023-01-29T14:05:35.180011Z",
     "shell.execute_reply": "2023-01-29T14:05:35.178620Z"
    },
    "id": "aFrWW812r1Si",
    "papermill": {
     "duration": 0.024563,
     "end_time": "2023-01-29T14:05:35.183223",
     "exception": false,
     "start_time": "2023-01-29T14:05:35.158660",
     "status": "completed"
    },
    "tags": []
   },
   "outputs": [],
   "source": [
    "loaded_model=pickle.load(open('insurance_model.sav','rb'))"
   ]
  },
  {
   "cell_type": "code",
   "execution_count": 30,
   "id": "928a20de",
   "metadata": {
    "execution": {
     "iopub.execute_input": "2023-01-29T14:05:35.211800Z",
     "iopub.status.busy": "2023-01-29T14:05:35.211238Z",
     "iopub.status.idle": "2023-01-29T14:05:35.225180Z",
     "shell.execute_reply": "2023-01-29T14:05:35.223886Z"
    },
    "id": "Baa83rO1r9It",
    "outputId": "86f44000-d087-4c35-b7b4-e934eac1e606",
    "papermill": {
     "duration": 0.031284,
     "end_time": "2023-01-29T14:05:35.227913",
     "exception": false,
     "start_time": "2023-01-29T14:05:35.196629",
     "status": "completed"
    },
    "tags": []
   },
   "outputs": [
    {
     "name": "stderr",
     "output_type": "stream",
     "text": [
      "/opt/conda/lib/python3.7/site-packages/sklearn/base.py:451: UserWarning: X does not have valid feature names, but LinearRegression was fitted with feature names\n",
      "  \"X does not have valid feature names, but\"\n"
     ]
    },
    {
     "data": {
      "text/plain": [
       "array([5518.65408942])"
      ]
     },
     "execution_count": 30,
     "metadata": {},
     "output_type": "execute_result"
    }
   ],
   "source": [
    "X_new=(31,1,25.74,4,1,0)\n",
    "X_new=np.asarray(X_new)\n",
    "X_new=X_new.reshape(1,-1)\n",
    "prediction=regressor.predict(X_new)\n",
    "prediction"
   ]
  },
  {
   "cell_type": "code",
   "execution_count": null,
   "id": "3fe6ce82",
   "metadata": {
    "id": "IyrwkBEgtGWA",
    "papermill": {
     "duration": 0.012538,
     "end_time": "2023-01-29T14:05:35.253871",
     "exception": false,
     "start_time": "2023-01-29T14:05:35.241333",
     "status": "completed"
    },
    "tags": []
   },
   "outputs": [],
   "source": []
  }
 ],
 "metadata": {
  "kernelspec": {
   "display_name": "Python 3",
   "language": "python",
   "name": "python3"
  },
  "language_info": {
   "codemirror_mode": {
    "name": "ipython",
    "version": 3
   },
   "file_extension": ".py",
   "mimetype": "text/x-python",
   "name": "python",
   "nbconvert_exporter": "python",
   "pygments_lexer": "ipython3",
   "version": "3.7.12"
  },
  "papermill": {
   "default_parameters": {},
   "duration": 17.842909,
   "end_time": "2023-01-29T14:05:36.494320",
   "environment_variables": {},
   "exception": null,
   "input_path": "__notebook__.ipynb",
   "output_path": "__notebook__.ipynb",
   "parameters": {},
   "start_time": "2023-01-29T14:05:18.651411",
   "version": "2.3.4"
  }
 },
 "nbformat": 4,
 "nbformat_minor": 5
}
